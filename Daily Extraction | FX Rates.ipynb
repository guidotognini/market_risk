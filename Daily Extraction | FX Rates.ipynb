{
 "cells": [
  {
   "cell_type": "markdown",
   "metadata": {
    "application/vnd.databricks.v1+cell": {
     "cellMetadata": {},
     "inputWidgets": {},
     "nuid": "459331b0-0a81-493e-8be6-cd248c5064b8",
     "showTitle": false,
     "tableResultSettingsMap": {},
     "title": ""
    }
   },
   "source": [
    "**Daily FX Rates Extraction for currency pairs:**\n",
    "- EUR/USD\n",
    "- GBP/USD\n",
    "- USD/JPY\n",
    "- USD/CHF\n",
    "- USD/BRL"
   ]
  },
  {
   "cell_type": "code",
   "execution_count": 0,
   "metadata": {
    "application/vnd.databricks.v1+cell": {
     "cellMetadata": {
      "byteLimit": 2048000,
      "rowLimit": 10000
     },
     "inputWidgets": {},
     "nuid": "e3893023-f933-480f-a320-dd270f12866e",
     "showTitle": false,
     "tableResultSettingsMap": {},
     "title": ""
    }
   },
   "outputs": [],
   "source": [
    "from pathlib import Path\n",
    "import requests\n",
    "from datetime import datetime\n",
    "import pytz\n",
    "import pyspark.sql\n",
    "from pyspark.sql import SparkSession\n",
    "\n",
    "spark = SparkSession.builder.getOrCreate()\n",
    "\n",
    "POLYGON_API_KEY = dbutils.secrets.get(scope=\"guidotognini\", key=\"polygon_api_key\")\n",
    "\n",
    "CURRENCY_PAIRS = ['EURUSD', 'GBPUSD', 'USDJPY', 'USDCHF', 'USDBRL']\n",
    "\n",
    "TZ = \"Europe/Madrid\"\n",
    "current_date = datetime.now(pytz.timezone(TZ)).strftime(\"%Y-%m-%d\")\n",
    "\n",
    "FROM_DATE = spark.sql(\"SELECT MAX(date) FROM tabular.dataexpert.silver_fx_daily_rates\").collect()[0][0]\n",
    "\n",
    "TO_DATE = current_date\n",
    "\n",
    "output_dir = Path(\"/Volumes/tabular/dataexpert/guidotognini/market_risk/raw_fx_daily_rates\")\n",
    "\n",
    "for pair in CURRENCY_PAIRS:\n",
    "    url = f\"https://api.polygon.io/v2/aggs/ticker/C:{pair}/range/1/day/{FROM_DATE}/{TO_DATE}?apiKey={POLYGON_API_KEY}\"\n",
    "    r = requests.get(url, timeout=30)\n",
    "    r.raise_for_status()\n",
    "    (output_dir / f\"{pair}_{FROM_DATE}_{TO_DATE}.json\").write_text(r.text)\n",
    "    print(f\"Downloaded {pair}\")"
   ]
  }
 ],
 "metadata": {
  "application/vnd.databricks.v1+notebook": {
   "computePreferences": {
    "hardware": {
     "accelerator": null,
     "gpuPoolId": null,
     "memory": null
    }
   },
   "dashboards": [],
   "environmentMetadata": {
    "base_environment": "",
    "environment_version": "4"
   },
   "inputWidgetPreferences": null,
   "language": "python",
   "notebookMetadata": {
    "pythonIndentUnit": 4
   },
   "notebookName": "Daily Extraction | FX Rates",
   "widgets": {}
  },
  "language_info": {
   "name": "python"
  }
 },
 "nbformat": 4,
 "nbformat_minor": 0
}
