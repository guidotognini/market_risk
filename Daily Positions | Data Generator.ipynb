{
 "cells": [
  {
   "cell_type": "code",
   "execution_count": 0,
   "metadata": {
    "application/vnd.databricks.v1+cell": {
     "cellMetadata": {
      "byteLimit": 2048000,
      "rowLimit": 10000
     },
     "inputWidgets": {},
     "nuid": "b6a3e175-6c57-4075-a13f-c2a25d8c0a21",
     "showTitle": false,
     "tableResultSettingsMap": {},
     "title": ""
    }
   },
   "outputs": [],
   "source": [
    "# generate_daily_positions.py\n",
    "import random\n",
    "from datetime import datetime, timedelta\n",
    "import pandas as pd\n",
    "import json\n",
    "import pytz\n",
    "\n",
    "def generate_daily_positions(date, currency_pairs):\n",
    "    \"\"\"\n",
    "    Simula posições diárias com:\n",
    "    - Random walks (posições não mudam drasticamente dia-a-dia)\n",
    "    - Bias por currency (EUR/USD = posições maiores)\n",
    "    - Reversões ocasionais (long → short)\n",
    "    \"\"\"\n",
    "    \n",
    "    positions = []\n",
    "    \n",
    "    for pair in currency_pairs:\n",
    "        # Tamanho base por currency pair\n",
    "        base_sizes = {\n",
    "            'EUR/USD': 15_000_000,  # Maior liquidez\n",
    "            'GBP/USD': 8_000_000,\n",
    "            'USD/JPY': 10_000_000,\n",
    "            'USD/CHF': 5_000_000,\n",
    "            'USD/BRL': 3_000_000    # Menor liquidez\n",
    "        }\n",
    "        \n",
    "        base_size = base_sizes.get(pair, 5_000_000)\n",
    "        \n",
    "        # Random walk: +/- 20% do tamanho base\n",
    "        daily_change = random.uniform(-0.2, 0.2)\n",
    "        position_size = base_size * (1 + daily_change)\n",
    "        \n",
    "        # 70% chance LONG, 30% chance SHORT (bancos geralmente net long)\n",
    "        direction = 'LONG' if random.random() < 0.7 else 'SHORT'\n",
    "        \n",
    "        # 5% chance de \"zero position\" (flat)\n",
    "        if random.random() < 0.05:\n",
    "            position_size = 0\n",
    "            direction = 'FLAT'\n",
    "        \n",
    "        positions.append({\n",
    "            'date': date,\n",
    "            'currency_pair': pair,\n",
    "            'position_size': round(position_size, 2),\n",
    "            'direction': direction,\n",
    "            'desk': 'FX Spot Desk',  # Simplificado\n",
    "            'generated_at': datetime.now()\n",
    "        })\n",
    "    \n",
    "    return pd.DataFrame(positions)\n",
    "\n",
    "currency_pairs = [\n",
    "    'EURUSD',\n",
    "    'GBPUSD',\n",
    "    'USDJPY',\n",
    "    'USDCHF',\n",
    "    'USDBRL'\n",
    "]\n",
    "\n",
    "positions_today = generate_daily_positions(\n",
    "    datetime.now(pytz.timezone(\"Europe/Madrid\")).date(),\n",
    "    currency_pairs\n",
    ")\n",
    "\n",
    "# turn rows into a list[dict]\n",
    "records = positions_today.to_dict(orient=\"records\")\n",
    "\n",
    "# serialize to JSON lines (one obj per line) or normal JSON array; pick what you want\n",
    "json_lines = \"\\n\".join(json.dumps(r, default=str) for r in records)\n",
    "\n",
    "output_path = \"/Volumes/tabular/dataexpert/guidotognini/market_risk/raw_positions\"\n",
    "file_name = f\"{datetime.now().date()}_positions.json\"\n",
    "full_path = f\"{output_path}/{file_name}\"\n",
    "\n",
    "# write directly to the Volume using dbutils.fs.put\n",
    "dbutils.fs.put(full_path, json_lines, overwrite=True)"
   ]
  }
 ],
 "metadata": {
  "application/vnd.databricks.v1+notebook": {
   "computePreferences": null,
   "dashboards": [],
   "environmentMetadata": {
    "base_environment": "",
    "environment_version": "4"
   },
   "inputWidgetPreferences": null,
   "language": "python",
   "notebookMetadata": {
    "pythonIndentUnit": 4
   },
   "notebookName": "Daily Positions | Data Generator",
   "widgets": {}
  },
  "language_info": {
   "name": "python"
  }
 },
 "nbformat": 4,
 "nbformat_minor": 0
}
