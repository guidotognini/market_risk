{
 "cells": [
  {
   "cell_type": "markdown",
   "metadata": {
    "application/vnd.databricks.v1+cell": {
     "cellMetadata": {},
     "inputWidgets": {},
     "nuid": "459331b0-0a81-493e-8be6-cd248c5064b8",
     "showTitle": false,
     "tableResultSettingsMap": {},
     "title": ""
    }
   },
   "source": [
    "**Extracting Historical FX Data for currency-pairs:**\n",
    "- EUR/USD\n",
    "- GBP/USD\n",
    "- USD/JPY\n",
    "- USD/CHF\n",
    "- USD/BRL"
   ]
  },
  {
   "cell_type": "code",
   "execution_count": 0,
   "metadata": {
    "application/vnd.databricks.v1+cell": {
     "cellMetadata": {
      "byteLimit": 2048000,
      "rowLimit": 10000
     },
     "inputWidgets": {},
     "nuid": "e3893023-f933-480f-a320-dd270f12866e",
     "showTitle": false,
     "tableResultSettingsMap": {},
     "title": ""
    }
   },
   "outputs": [],
   "source": [
    "from pathlib import Path\n",
    "import requests\n",
    "\n",
    "POLYGON_API_KEY = dbutils.secrets.get(scope=\"guidotognini\", key=\"polygon_api_key\")\n",
    "\n",
    "CURRENCY_PAIRS = ['EURUSD', 'GBPUSD', 'USDJPY', 'USDCHF', 'USDBRL']\n",
    "FROM_DATE = '2024-01-01'\n",
    "TO_DATE = '2025-10-25'\n",
    "\n",
    "output_dir = Path(\"/Volumes/tabular/dataexpert/guidotognini/market_risk/raw_fx_daily_rates\")\n",
    "\n",
    "for pair in CURRENCY_PAIRS:\n",
    "    url = f\"https://api.polygon.io/v2/aggs/ticker/C:{pair}/range/1/day/{FROM_DATE}/{TO_DATE}?apiKey={POLYGON_API_KEY}\"\n",
    "    r = requests.get(url, timeout=30)\n",
    "    r.raise_for_status()\n",
    "    (output_dir / f\"{pair}_{FROM_DATE}_{TO_DATE}.json\").write_text(r.text)\n",
    "    print(f\"Downloaded {pair}\")"
   ]
  }
 ],
 "metadata": {
  "application/vnd.databricks.v1+notebook": {
   "computePreferences": {
    "hardware": {
     "accelerator": null,
     "gpuPoolId": null,
     "memory": null
    }
   },
   "dashboards": [],
   "environmentMetadata": {
    "base_environment": "",
    "environment_version": "4"
   },
   "inputWidgetPreferences": null,
   "language": "python",
   "notebookMetadata": {
    "pythonIndentUnit": 4
   },
   "notebookName": "Historical Extraction | FX Rates",
   "widgets": {}
  },
  "language_info": {
   "name": "python"
  }
 },
 "nbformat": 4,
 "nbformat_minor": 0
}
